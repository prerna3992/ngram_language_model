{
 "cells": [
  {
   "cell_type": "markdown",
   "metadata": {},
   "source": [
    "## Problem 3"
   ]
  },
  {
   "cell_type": "markdown",
   "metadata": {},
   "source": [
    "Download brown corpus from NLTK."
   ]
  },
  {
   "cell_type": "markdown",
   "metadata": {},
   "source": [
    "#### Part (a)"
   ]
  },
  {
   "cell_type": "code",
   "execution_count": 1,
   "metadata": {},
   "outputs": [
    {
     "name": "stderr",
     "output_type": "stream",
     "text": [
      "[nltk_data] Downloading package brown to\n",
      "[nltk_data]     C:\\Users\\prern\\AppData\\Roaming\\nltk_data...\n",
      "[nltk_data]   Package brown is already up-to-date!\n"
     ]
    }
   ],
   "source": [
    "import nltk\n",
    "nltk.download('brown')\n",
    "dataset = nltk.corpus.brown.words(categories=['news','learned'])"
   ]
  },
  {
   "cell_type": "markdown",
   "metadata": {},
   "source": [
    "Data cleaning and inserting start-stop symbols\n"
   ]
  },
  {
   "cell_type": "code",
   "execution_count": 2,
   "metadata": {},
   "outputs": [
    {
     "data": {
      "text/plain": [
       "'<s>'"
      ]
     },
     "execution_count": 2,
     "metadata": {},
     "output_type": "execute_result"
    }
   ],
   "source": [
    "import re\n",
    "lst_dt=[]\n",
    "for w in dataset : \n",
    "    w = w.lower()\n",
    "    w = re.sub(r\"\\d+\", \"\", w)\n",
    "    if(w == \".\"):\n",
    "        lst_dt.append('</s>')\n",
    "        lst_dt.append('<s>')\n",
    "    w = re.sub(r'[^a-zA-Z\\s]', '', w)    \n",
    "    if(w != ''):\n",
    "        lst_dt.append(w)\n",
    "\n",
    "lst_dt.insert(0,'<s>')\n",
    "lst_dt.pop()\n",
    "#print(lst_dt)"
   ]
  },
  {
   "cell_type": "markdown",
   "metadata": {},
   "source": [
    "Creating function to split the dataset into training, development and testing data\n"
   ]
  },
  {
   "cell_type": "code",
   "execution_count": 3,
   "metadata": {},
   "outputs": [],
   "source": [
    "def split_st(data,n,m):\n",
    "    \n",
    "    le=len(data)\n",
    "    l=int(round(len(data)*n))\n",
    "\n",
    "    train=data[1:l]\n",
    "    test_dt=data[l:le]\n",
    "    \n",
    "    d=int(round(len(train)*m))\n",
    "\n",
    "    dev_dt=train[1:d]\n",
    "    train_dt=train[d:l]\n",
    "    \n",
    "    return (train,test_dt,dev_dt,train_dt)"
   ]
  },
  {
   "cell_type": "markdown",
   "metadata": {},
   "source": [
    "_Calling the above function and splitting the dataset into training and testing in the ratio of 70:30. <br>\n",
    "Also, we take 15% of the initial training data as the developing data and take the rest 55% as the final training data.<br>\n",
    "We will use  train and test data i.e 70% in part c_"
   ]
  },
  {
   "cell_type": "code",
   "execution_count": 4,
   "metadata": {},
   "outputs": [],
   "source": [
    "train,test_dt,dev_dt,train_dt=split_st(lst_dt,.7,.15)"
   ]
  },
  {
   "cell_type": "markdown",
   "metadata": {},
   "source": [
    " __Defining function to build n-grams__\n"
   ]
  },
  {
   "cell_type": "code",
   "execution_count": 5,
   "metadata": {},
   "outputs": [],
   "source": [
    "def build_ngrams(ngram_dt, n):\n",
    "  return list(zip(*[ngram_dt[i:] for i in range(n)]))"
   ]
  },
  {
   "cell_type": "code",
   "execution_count": 8,
   "metadata": {},
   "outputs": [],
   "source": [
    "# Building unigrams and bigrams\n",
    "unig = build_ngrams(train_dt, 1)\n",
    "big = build_ngrams(train_dt, 2)\n",
    "\n",
    "dev_uni = build_ngrams(dev_dt, 1)\n",
    "dev_bi = build_ngrams(dev_dt, 2)\n",
    "\n",
    "train_uni = build_ngrams(train, 1)\n",
    "train_bi = build_ngrams(train, 2)\n",
    "\n",
    "test_uni = build_ngrams(test_dt, 1)\n",
    "test_bi = build_ngrams(test_dt, 2)\n"
   ]
  },
  {
   "cell_type": "code",
   "execution_count": 9,
   "metadata": {},
   "outputs": [],
   "source": [
    "# Defining function to build n-gram models. This model gives the \n",
    "# probability against each n-gram.\n",
    "import collections, nltk\n",
    "\n",
    "def model_dt(tokens,l):    \n",
    "    model = collections.defaultdict(lambda: l)\n",
    "    for f in tokens:\n",
    "        try:\n",
    "            model[f] += 1\n",
    "        except KeyError:\n",
    "            model [f] = 1\n",
    "            continue\n",
    "    for word in model:\n",
    "        model[word] = model[word]/float(sum(model.values()))\n",
    "    return model"
   ]
  },
  {
   "cell_type": "code",
   "execution_count": 10,
   "metadata": {},
   "outputs": [],
   "source": [
    "# Defining function to calculate the perplexity\n",
    "import math\n",
    "def perplexity(testset, model):\n",
    "    perplexity = 1\n",
    "    N = 0\n",
    "    for word in testset:\n",
    "        N += 1\n",
    "        if(model[word]!=0):\n",
    "            perplexity = perplexity + math.log(model[word],2)        \n",
    "    perplexity = -(perplexity * 1/N )\n",
    "    return pow(2,perplexity)"
   ]
  },
  {
   "cell_type": "code",
   "execution_count": 11,
   "metadata": {},
   "outputs": [
    {
     "name": "stdout",
     "output_type": "stream",
     "text": [
      "357.9053381473722\n"
     ]
    }
   ],
   "source": [
    "model_ug = model_dt(unig,0)\n",
    "ug_pp = perplexity(unig, model_ug)\n",
    "print(ug_pp)"
   ]
  },
  {
   "cell_type": "code",
   "execution_count": 12,
   "metadata": {},
   "outputs": [
    {
     "name": "stdout",
     "output_type": "stream",
     "text": [
      "11690.413919798324\n"
     ]
    }
   ],
   "source": [
    "model_bg = model_dt(big,0)\n",
    "bg_pp = perplexity(big, model_bg)\n",
    "print(bg_pp)"
   ]
  },
  {
   "cell_type": "markdown",
   "metadata": {},
   "source": [
    "* Perplexity of unigram and bigram model on training data is 363.978383749 and 11707.5716564 respectively."
   ]
  },
  {
   "cell_type": "markdown",
   "metadata": {},
   "source": [
    "#### Part(b) "
   ]
  },
  {
   "cell_type": "markdown",
   "metadata": {},
   "source": [
    " __For unigram__"
   ]
  },
  {
   "cell_type": "markdown",
   "metadata": {},
   "source": [
    "_Using devloping data for calculating perplexity_"
   ]
  },
  {
   "cell_type": "code",
   "execution_count": 13,
   "metadata": {},
   "outputs": [],
   "source": [
    "import matplotlib.pyplot as plt\n",
    "x=[]\n",
    "y=[]\n",
    "lamda=[0,0.001,0.05,0.1,1,1.5,2,3,4] #assuming lambda\n",
    "for l in lamda:\n",
    "    m=model_dt(unig,l)\n",
    "    pp=perplexity(dev_uni,m)\n",
    "    x.append(l)\n",
    "    y.append(pp)\n",
    "    #print(l,pp)"
   ]
  },
  {
   "cell_type": "code",
   "execution_count": 14,
   "metadata": {},
   "outputs": [
    {
     "data": {
      "image/png": "[encoded data removed]",
      "text/plain": [
       "<Figure size 432x288 with 1 Axes>"
      ]
     },
     "metadata": {
      "needs_background": "light"
     },
     "output_type": "display_data"
    }
   ],
   "source": [
    "plt.plot(x,y)\n",
    "plt.xlabel('lambda')\n",
    "plt.ylabel('Perplexity')\n",
    "plt.show()"
   ]
  },
  {
   "cell_type": "markdown",
   "metadata": {},
   "source": [
    "__For bigram__\n"
   ]
  },
  {
   "cell_type": "code",
   "execution_count": 15,
   "metadata": {},
   "outputs": [],
   "source": [
    "import matplotlib.pyplot as plt\n",
    "x=[]\n",
    "y=[]\n",
    "for l in range(0,8,2):\n",
    "    m=model_dt(big,l)\n",
    "    pp=perplexity(dev_bi,m)\n",
    "    x.append(l)\n",
    "    y.append(pp)\n",
    "   # print(l,pp)"
   ]
  },
  {
   "cell_type": "code",
   "execution_count": 16,
   "metadata": {},
   "outputs": [
    {
     "data": {
      "image/png": "[encoded data removed]",
      "text/plain": [
       "<Figure size 432x288 with 1 Axes>"
      ]
     },
     "metadata": {
      "needs_background": "light"
     },
     "output_type": "display_data"
    }
   ],
   "source": [
    "plt.plot(x,y)\n",
    "plt.xlabel('lambda')\n",
    "plt.ylabel('Perplexity')\n",
    "plt.show()"
   ]
  },
  {
   "cell_type": "markdown",
   "metadata": {},
   "source": [
    "#### Part(c)"
   ]
  },
  {
   "cell_type": "code",
   "execution_count": 18,
   "metadata": {},
   "outputs": [
    {
     "name": "stdout",
     "output_type": "stream",
     "text": [
      "Perplexity of Unigram model is 210.17413284655666\n",
      "Perplexity of Bigram model is 38.769998457925126\n"
     ]
    }
   ],
   "source": [
    "# Using ideal lambda value as 1 (from above unigram plot), we build the \n",
    "# below unigram model on training and developing data.\n",
    "mod_unigram = model_dt(train_uni,1)\n",
    "pp_unigram = perplexity(test_uni,mod_unigram)\n",
    "\n",
    "# Using ideal lambda value as 6 (from above bigram plot), we build the \n",
    "# below bigram model on training and developing data.\n",
    "\n",
    "mod_bigram = model_dt(train_bi,6)\n",
    "pp_bigram = perplexity(test_bi,mod_bigram)\n",
    "\n",
    "print ('Perplexity of Unigram model is',pp_unigram)\n",
    "print ('Perplexity of Bigram model is',pp_bigram)"
   ]
  },
  {
   "cell_type": "markdown",
   "metadata": {},
   "source": [
    "#### Part(d)\n"
   ]
  },
  {
   "cell_type": "code",
   "execution_count": 19,
   "metadata": {},
   "outputs": [
    {
     "data": {
      "text/plain": [
       "14"
      ]
     },
     "execution_count": 19,
     "metadata": {},
     "output_type": "execute_result"
    }
   ],
   "source": [
    "m=nltk.corpus.brown.sents(categories=['news','trained'])\n",
    "len(max(m))"
   ]
  },
  {
   "cell_type": "markdown",
   "metadata": {},
   "source": [
    "We will use 14 as the maximum words while generating random sentences, as the maximum lenth of sentence is 14 in our dataset."
   ]
  },
  {
   "cell_type": "markdown",
   "metadata": {},
   "source": [
    "__For unigram__"
   ]
  },
  {
   "cell_type": "code",
   "execution_count": 37,
   "metadata": {},
   "outputs": [
    {
     "name": "stdout",
     "output_type": "stream",
     "text": [
      "doesnt times the of there fast record <s> also <s> a the infested invitation \n",
      "\n",
      "to the from of the the lower values primary cost was finding in \n",
      "\n",
      "austins that sitting efficiency be steel not <s> and every program wideopen may \n",
      "\n",
      "scrapbook youth <s> stranger against power of where a first up paper cut \n",
      "\n",
      "meredith a policy traffic social about necessitated among where by it and mussett so \n",
      "\n"
     ]
    }
   ],
   "source": [
    "import random\n",
    "x=0\n",
    "while x <5:\n",
    "    for i in range(0,14):\n",
    "        for w in random.choice(unig):\n",
    "            if w =='</s>' or w=='.':                \n",
    "                break\n",
    "            elif w=='<s>':                \n",
    "                continue\n",
    "        else:\n",
    "            print (w, end=\" \")\n",
    "    x=x+1\n",
    "    print('\\n')"
   ]
  },
  {
   "cell_type": "markdown",
   "metadata": {},
   "source": [
    "__For bigram__"
   ]
  },
  {
   "cell_type": "code",
   "execution_count": 38,
   "metadata": {},
   "outputs": [
    {
     "name": "stdout",
     "output_type": "stream",
     "text": [
      "just mice be individuals av the were the while senate radiation registration they to \n",
      "\n",
      "and errors the explains a chlorine shared a with boxwood the conducted than restrict \n",
      "\n",
      "for major two died of waves fact moore attraction is integrated drop plasma \n",
      "\n",
      "the eleven nor where many italian per by or more enable form \n",
      "\n",
      "a kittredge crime had charged elections out must of to in evidence scale \n",
      "\n"
     ]
    }
   ],
   "source": [
    "# For bigram\n",
    "import random\n",
    "x=0\n",
    "while x <5:\n",
    "    for i in range(0,14):\n",
    "        for w in random.choice(big):\n",
    "            if w =='</s>' or w=='.':                \n",
    "                break\n",
    "            elif w=='<s>':                \n",
    "                continue\n",
    "        else:\n",
    "            print (w, end = \" \")\n",
    "    x=x+1\n",
    "    print('\\n')"
   ]
  },
  {
   "cell_type": "markdown",
   "metadata": {},
   "source": [
    "#### Part(e) "
   ]
  },
  {
   "cell_type": "markdown",
   "metadata": {},
   "source": [
    "##### Building Trigram"
   ]
  },
  {
   "cell_type": "code",
   "execution_count": 23,
   "metadata": {},
   "outputs": [
    {
     "data": {
      "text/plain": [
       "'<s>'"
      ]
     },
     "execution_count": 23,
     "metadata": {},
     "output_type": "execute_result"
    }
   ],
   "source": [
    "# Creating sentences for trigram\n",
    "import re\n",
    "lst_dt=[]\n",
    "for w in dataset : \n",
    "    w = w.lower()\n",
    "    w = re.sub(r\"\\d+\", \"\", w)\n",
    "    if(w == \".\"):\n",
    "        lst_dt.append('</s>')\n",
    "        lst_dt.append('</s>')\n",
    "        lst_dt.append('<s>')\n",
    "        lst_dt.append('<s>')\n",
    "    w = re.sub(r'[^a-zA-Z\\s]', '', w)    \n",
    "    if(w != ''):\n",
    "        lst_dt.append(w)\n",
    "\n",
    "lst_dt.insert(0,'<s>')\n",
    "lst_dt.insert(0,'<s>')\n",
    "lst_dt.pop()\n",
    "lst_dt.pop()"
   ]
  },
  {
   "cell_type": "code",
   "execution_count": 24,
   "metadata": {},
   "outputs": [],
   "source": [
    "# Building trigram\n",
    "trig = build_ngrams(lst_dt, 3)"
   ]
  },
  {
   "cell_type": "code",
   "execution_count": 39,
   "metadata": {},
   "outputs": [
    {
     "name": "stdout",
     "output_type": "stream",
     "text": [
      "of sure colonel regions log the the the ten \n",
      "\n",
      "the support extensively mrs poems of apparently satisfied took achieve at lag standins \n",
      "\n",
      "directly in innovations biggest material the libyan dots national pure other to plain \n",
      "\n",
      "used is and earth permits noise them in with every similar moral eightinch \n",
      "\n",
      "of playing unit system high the being of than \n",
      "\n"
     ]
    }
   ],
   "source": [
    "# Generating random sentences from trigram model\n",
    "import random\n",
    "x=0\n",
    "while x <5:\n",
    "    for i in range(0,14):\n",
    "        for w in random.choice(trig):\n",
    "            if w =='</s>' or w=='.':                \n",
    "                break\n",
    "            elif w=='<s>':                \n",
    "                continue\n",
    "        else:\n",
    "            print (w, end=\" \")\n",
    "    x=x+1\n",
    "    print('\\n')"
   ]
  },
  {
   "cell_type": "markdown",
   "metadata": {},
   "source": [
    "__Yes we can see trigram is generating better sentences than unigram or bigram model.__"
   ]
  },
  {
   "cell_type": "code",
   "execution_count": null,
   "metadata": {},
   "outputs": [],
   "source": []
  }
 ],
 "metadata": {
  "kernelspec": {
   "display_name": "Python 3",
   "language": "python",
   "name": "python3"
  },
  "language_info": {
   "codemirror_mode": {
    "name": "ipython",
    "version": 3
   },
   "file_extension": ".py",
   "mimetype": "text/x-python",
   "name": "python",
   "nbconvert_exporter": "python",
   "pygments_lexer": "ipython3",
   "version": "3.7.1"
  }
 },
 "nbformat": 4,
 "nbformat_minor": 2
}
